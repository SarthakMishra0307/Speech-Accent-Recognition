{
 "cells": [
  {
   "cell_type": "code",
   "execution_count": null,
   "metadata": {},
   "outputs": [],
   "source": [
    "# importing the libraries\n",
    "import numpy as np\n",
    "import librosa as lb \n",
    "import os\n",
    "import librosa.display\n",
    "import matplotlib.pyplot as plt\n",
    "import pandas as pd"
   ]
  },
  {
   "cell_type": "code",
   "execution_count": null,
   "metadata": {},
   "outputs": [],
   "source": [
    "# path of the audio files directory\n",
    "path = \"../Project/recordings/\"\n",
    "print(os.listdir(path))"
   ]
  },
  {
   "attachments": {},
   "cell_type": "markdown",
   "metadata": {},
   "source": [
    "Checking out the meta datafile"
   ]
  },
  {
   "cell_type": "code",
   "execution_count": null,
   "metadata": {},
   "outputs": [],
   "source": [
    "df = pd.read_csv('../Project/speakers_all.csv')\n",
    "\n",
    "print(df.shape)\n",
    "print('-----------')\n",
    "print(df.head())"
   ]
  },
  {
   "attachments": {},
   "cell_type": "markdown",
   "metadata": {},
   "source": [
    "Dropping columns 8-10 as they are not required "
   ]
  },
  {
   "cell_type": "code",
   "execution_count": null,
   "metadata": {},
   "outputs": [],
   "source": [
    "df.drop(df.columns[8:11], axis=1, inplace=True)\n",
    "df=df.fillna(\"NaN\")\n",
    "df.head()"
   ]
  },
  {
   "cell_type": "code",
   "execution_count": null,
   "metadata": {},
   "outputs": [],
   "source": [
    "# creating a new dataframe with only the required columns\n",
    "newDf = pd.DataFrame()\n"
   ]
  },
  {
   "cell_type": "code",
   "execution_count": null,
   "metadata": {},
   "outputs": [],
   "source": [
    "dir = \"../Project/recordings/\"\n",
    "features = {}\n",
    "for index, row in df.iterrows():\n",
    "    # if file does not exist in the recordings folder, skip it\n",
    "    if os.path.isfile(dir+row['filename']+'.mp3')==False:\n",
    "        print('File '+str(row['filename'])+\".mp3 doesn't exist\")\n",
    "        # also remove it from the dataframe\n",
    "        df=df.drop([index])\n",
    "        continue\n",
    "\n",
    "    audio_path = os.path.join(os.path.abspath(dir),row['filename']+\".mp3\")\n",
    "    audio, sr = librosa.load(audio_path)\n",
    "\n",
    "    mfccs = librosa.feature.mfcc(y=audio, sr=sr, n_mfcc=13)\n",
    "    spectral_centroids = librosa.feature.spectral_centroid(y=audio, sr=sr)\n",
    "    spectral_rolloff = librosa.feature.spectral_rolloff(y=audio, sr=sr)\n",
    "    chroma = librosa.feature.chroma_stft(y=audio, sr=sr)\n",
    "\n",
    "    features['label']=row['native_language']\n",
    "    # mfccs\n",
    "    for i in mfccs:\n",
    "        features['mfccMed'+str(i)]=np.median(i)\n",
    "        features['mfccMean'+str(i)]=np.mean(i)\n",
    "        features['mfccVar'+str(i)]=np.var(i)\n",
    "    \n",
    "    # spectral_centroids\n",
    "    features['spectral_centroidsMed'+str(0)]=np.median(spectral_centroids[0])\n",
    "    features['spectral_centroidsMean'+str(0)]=np.mean(spectral_centroids[0])\n",
    "    features['spectral_centroidsVar'+str(0)]=np.var(spectral_centroids[0])\n",
    "\n",
    "    # spectral_rolloff\n",
    "    features['spectral_rolloffMed'+str(0)]=np.median(spectral_rolloff[0])\n",
    "    features['spectral_rolloffMean'+str(0)]=np.mean(spectral_rolloff[0])\n",
    "    features['spectral_rolloffVar'+str(0)]=np.var(spectral_rolloff[0])\n",
    "\n",
    "    # chroma\n",
    "    features['chromaMed'+str(0)]=np.median(chroma[0])\n",
    "    features['chromaMean'+str(0)]=np.mean(chroma[0])\n",
    "    features['chromaVar'+str(0)]=np.var(chroma[0])\n",
    "\n",
    "    newDf = newDf.append([features])\n",
    "\n",
    "    print(index)"
   ]
  },
  {
   "attachments": {},
   "cell_type": "markdown",
   "metadata": {},
   "source": []
  },
  {
   "cell_type": "code",
   "execution_count": null,
   "metadata": {},
   "outputs": [],
   "source": [
    "features = np.array(features)\n",
    "labels = np.array(labels)"
   ]
  },
  {
   "cell_type": "code",
   "execution_count": null,
   "metadata": {},
   "outputs": [],
   "source": [
    "# perform one-hot encoding on the labels\n",
    "from sklearn.preprocessing import LabelEncoder, OneHotEncoder\n",
    "\n",
    "label_encoder = LabelEncoder()\n",
    "labels_encoded = label_encoder.fit_transform(labels)\n",
    "\n",
    "onehot_encoder = OneHotEncoder(sparse=False)\n",
    "labels_onehot = onehot_encoder.fit_transform(labels_encoded.reshape(-1, 1))"
   ]
  },
  {
   "cell_type": "code",
   "execution_count": null,
   "metadata": {},
   "outputs": [],
   "source": [
    "from sklearn.model_selection import train_test_split\n",
    "from sklearn.ensemble import RandomForestClassifier\n",
    "from sklearn.metrics import accuracy_score\n",
    "\n",
    "# split the data into training and testing sets\n",
    "X_train, X_test, y_train, y_test = train_test_split(features, labels_onehot, test_size=0.2, random_state=42)\n",
    "max_len = max(len(x) for x in X_train)\n",
    "X_train = np.array([x + [0] * (max_len - len(x)) for x in X_train])\n",
    "X_test = np.array([x + [0] * (max_len - len(x)) for x in X_test])"
   ]
  },
  {
   "cell_type": "code",
   "execution_count": null,
   "metadata": {},
   "outputs": [],
   "source": [
    "print(type(X_train[0]))\n",
    "print(type(X_test[0]))"
   ]
  },
  {
   "cell_type": "code",
   "execution_count": null,
   "metadata": {},
   "outputs": [],
   "source": [
    "\n",
    "# train a random forest classifier on the training data\n",
    "clf = RandomForestClassifier(n_estimators=200, random_state=42)\n",
    "clf.fit(X_train.tolist(), y_train.tolist())"
   ]
  },
  {
   "cell_type": "code",
   "execution_count": null,
   "metadata": {},
   "outputs": [],
   "source": [
    "print(y_test.shape)\n",
    "X_test.shape"
   ]
  },
  {
   "cell_type": "code",
   "execution_count": null,
   "metadata": {},
   "outputs": [],
   "source": [
    "X_train.shape"
   ]
  },
  {
   "cell_type": "code",
   "execution_count": null,
   "metadata": {},
   "outputs": [],
   "source": [
    "# c = 0\n",
    "# for i, x in enumerate(X_test):\n",
    "#     if isinstance(x, list):\n",
    "#         c+=1\n",
    "#         print(f\"Element {i} is a list: {x}\")\n",
    "#         if c>10:\n",
    "#             break"
   ]
  },
  {
   "cell_type": "code",
   "execution_count": null,
   "metadata": {},
   "outputs": [],
   "source": [
    "# import itertools\n",
    "\n",
    "# # flatten nested list\n",
    "# X_test_flat = list(itertools.chain.from_iterable(X_test))\n",
    "\n",
    "# # convert flattened list to numpy array\n",
    "# X_test_flat_arr = np.array(X_test_flat)\n",
    "\n",
    "# # reshape the array to the original shape of X_test\n",
    "# X_test_arr = X_test_flat_arr.reshape(X_test.shape)"
   ]
  },
  {
   "cell_type": "code",
   "execution_count": null,
   "metadata": {},
   "outputs": [],
   "source": [
    "# X_test = np.expand_dims(X_test, axis=1)"
   ]
  },
  {
   "cell_type": "code",
   "execution_count": null,
   "metadata": {},
   "outputs": [],
   "source": [
    "# X_test_flat = []\n",
    "# for sample in X_test:\n",
    "#     if isinstance(sample, list):\n",
    "#         X_test_flat.append(np.array(sample).flatten())\n",
    "#     else:\n",
    "#         X_test_flat.append(sample.flatten())"
   ]
  },
  {
   "cell_type": "code",
   "execution_count": null,
   "metadata": {},
   "outputs": [],
   "source": [
    "# X_test_flat_arr = np.array(X_test_flat).reshape(len(X_test_flat), -1)"
   ]
  },
  {
   "cell_type": "code",
   "execution_count": null,
   "metadata": {},
   "outputs": [],
   "source": [
    "# X_test_flat_arr = np.array(X_test_flat).astype('float32')"
   ]
  },
  {
   "cell_type": "code",
   "execution_count": null,
   "metadata": {},
   "outputs": [],
   "source": [
    "# # make predictions on the testing data\n",
    "y_pred = clf.predict(X_test)\n",
    "\n",
    "# # calculate accuracy of the model on the testing data\n",
    "accuracy = accuracy_score(y_test, y_pred)\n",
    "print(\"Accuracy: {:.2f}%\".format(accuracy * 100))"
   ]
  },
  {
   "cell_type": "code",
   "execution_count": null,
   "metadata": {},
   "outputs": [],
   "source": [
    "# make predictions on the testing data\n",
    "print(\"Making predictions...\")\n",
    "y_pred = clf.predict(X_test.astype(np.float64))\n",
    "\n",
    "# calculate accuracy of the model on the testing data\n",
    "print(\"Calculating accuracy...\")\n",
    "accuracy = accuracy_score(y_test, y_pred)\n",
    "print(f\"Accuracy: {accuracy}\")"
   ]
  },
  {
   "cell_type": "code",
   "execution_count": null,
   "metadata": {},
   "outputs": [],
   "source": [
    "# predicting the native language of from an audio file\n",
    "# selecting random recordings from the recordings folder\n"
   ]
  },
  {
   "attachments": {},
   "cell_type": "markdown",
   "metadata": {},
   "source": [
    "### Model 2\n",
    "Gradient boosted random forests"
   ]
  },
  {
   "cell_type": "code",
   "execution_count": null,
   "metadata": {},
   "outputs": [],
   "source": [
    "from sklearn.ensemble import GradientBoostingClassifier\n",
    "from sklearn.metrics import accuracy_score"
   ]
  },
  {
   "cell_type": "code",
   "execution_count": null,
   "metadata": {},
   "outputs": [],
   "source": [
    "# train a GBRF classifier on the training data\n",
    "clf1 = GradientBoostingClassifier(n_estimators=100, subsample=0.8, random_state=42)\n",
    "clf1.fit(X_train, np.argmax(y_train, axis=1).flatten())"
   ]
  },
  {
   "cell_type": "code",
   "execution_count": null,
   "metadata": {},
   "outputs": [],
   "source": [
    "# make predictions on the testing data\n",
    "y_pred = clf1.predict(X_test)\n",
    "\n",
    "# calculate accuracy of the model on the testing data\n",
    "accuracy = accuracy_score(y_test, y_pred)\n",
    "print(f\"Accuracy: {accuracy}\")"
   ]
  },
  {
   "cell_type": "code",
   "execution_count": null,
   "metadata": {},
   "outputs": [],
   "source": []
  },
  {
   "cell_type": "code",
   "execution_count": null,
   "metadata": {},
   "outputs": [],
   "source": []
  },
  {
   "cell_type": "code",
   "execution_count": null,
   "metadata": {},
   "outputs": [],
   "source": []
  },
  {
   "cell_type": "code",
   "execution_count": null,
   "metadata": {},
   "outputs": [],
   "source": []
  }
 ],
 "metadata": {
  "kernelspec": {
   "display_name": "Python 3",
   "language": "python",
   "name": "python3"
  },
  "language_info": {
   "codemirror_mode": {
    "name": "ipython",
    "version": 3
   },
   "file_extension": ".py",
   "mimetype": "text/x-python",
   "name": "python",
   "nbconvert_exporter": "python",
   "pygments_lexer": "ipython3",
   "version": "3.10.9"
  },
  "orig_nbformat": 4,
  "vscode": {
   "interpreter": {
    "hash": "096702f0fc404761d9e05a879d921646a0b0aac8a263b5fa981548eafdd624a9"
   }
  }
 },
 "nbformat": 4,
 "nbformat_minor": 2
}
